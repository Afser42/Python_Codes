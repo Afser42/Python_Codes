{
 "cells": [
  {
   "cell_type": "markdown",
   "id": "6390a972",
   "metadata": {},
   "source": [
    "# Write a Python program to sum all the items in a list.\n"
   ]
  },
  {
   "cell_type": "code",
   "execution_count": 5,
   "id": "58d98dc8",
   "metadata": {},
   "outputs": [],
   "source": [
    "def sum_func(data):\n",
    "    sum_list=0\n",
    "    for i in data:\n",
    "        sum_list=sum_list+i\n",
    "    return sum_list"
   ]
  },
  {
   "cell_type": "code",
   "execution_count": 6,
   "id": "4f284706",
   "metadata": {},
   "outputs": [
    {
     "data": {
      "text/plain": [
       "55"
      ]
     },
     "execution_count": 6,
     "metadata": {},
     "output_type": "execute_result"
    }
   ],
   "source": [
    "sum_func([1,2,3,4,5,6,7,8,9,10])"
   ]
  },
  {
   "cell_type": "code",
   "execution_count": 55,
   "id": "3bb26820",
   "metadata": {},
   "outputs": [
    {
     "name": "stdout",
     "output_type": "stream",
     "text": [
      "55\n"
     ]
    }
   ],
   "source": [
    "def sum_func(data):\n",
    "    total_sum=sum(data)\n",
    "    return total_sum\n",
    "print(sum_func([1,2,3,4,5,6,7,8,9,10]))"
   ]
  },
  {
   "cell_type": "markdown",
   "id": "6655bdc9",
   "metadata": {},
   "source": [
    "# Write a Python program to count the number of strings where the string length is 2 or more and the first and last character are same from a given list of strings."
   ]
  },
  {
   "cell_type": "code",
   "execution_count": 58,
   "id": "8654af74",
   "metadata": {},
   "outputs": [],
   "source": [
    "def str_func(data):\n",
    "    c=0\n",
    "    for i in data:\n",
    "        if (len(i)>1) and (i[0]==i[-1]):\n",
    "            c=c+1\n",
    "    return c"
   ]
  },
  {
   "cell_type": "code",
   "execution_count": 59,
   "id": "8341eba8",
   "metadata": {},
   "outputs": [
    {
     "data": {
      "text/plain": [
       "4"
      ]
     },
     "execution_count": 59,
     "metadata": {},
     "output_type": "execute_result"
    }
   ],
   "source": [
    "str_func(['abc','ded','12321','aaa','fghf'])"
   ]
  },
  {
   "cell_type": "markdown",
   "id": "7a835940",
   "metadata": {},
   "source": [
    "# Write a Python program to remove duplicates from a list.\n"
   ]
  },
  {
   "cell_type": "code",
   "execution_count": 61,
   "id": "0d9b813d",
   "metadata": {},
   "outputs": [
    {
     "name": "stdout",
     "output_type": "stream",
     "text": [
      "The duplicate items are: {40, 10, 20, 50}\n",
      "The unique items are: [10, 20, 30, 50, 60, 40, 80]\n"
     ]
    }
   ],
   "source": [
    "samp_list = [10, 20, 30, 20, 10, 50, 60, 40, 80, 50, 40]\n",
    "dupl_items=set()\n",
    "uniq_items=[]\n",
    "\n",
    "for i in samp_list:\n",
    "    if i in uniq_items:\n",
    "        dupl_items.add(i)\n",
    "    else: uniq_items.append(i)\n",
    "print('The duplicate items are:', dupl_items)\n",
    "print('The unique items are:', uniq_items)\n",
    "        "
   ]
  },
  {
   "cell_type": "markdown",
   "id": "6c20b213",
   "metadata": {},
   "source": [
    "# Write a Python program to check if all dictionaries in a list are empty or not."
   ]
  },
  {
   "cell_type": "code",
   "execution_count": 62,
   "id": "81d87942",
   "metadata": {},
   "outputs": [
    {
     "name": "stdout",
     "output_type": "stream",
     "text": [
      "True\n",
      "False\n"
     ]
    }
   ],
   "source": [
    "my_list1 = [{},{},{}]\n",
    "my_list2 = [{123,2345},{},{}]\n",
    "print(all(not d for d in my_list1))\n",
    "print(all(not d for d in my_list2))"
   ]
  },
  {
   "cell_type": "markdown",
   "id": "a8765473",
   "metadata": {},
   "source": [
    "# groupby() function"
   ]
  },
  {
   "cell_type": "code",
   "execution_count": 63,
   "id": "69c04f3a",
   "metadata": {},
   "outputs": [],
   "source": [
    "from itertools import groupby"
   ]
  },
  {
   "cell_type": "code",
   "execution_count": 64,
   "id": "d75a1d7b",
   "metadata": {},
   "outputs": [
    {
     "name": "stdout",
     "output_type": "stream",
     "text": [
      "1 : [1, 1, 1, 1]\n",
      "2 : [2, 2, 2, 2, 2]\n",
      "3 : [3]\n",
      "4 : [4, 4]\n",
      "5 : [5, 5, 5]\n",
      "6 : [6]\n",
      "7 : [7]\n",
      "8 : [8, 8]\n",
      "9 : [9, 9]\n"
     ]
    }
   ],
   "source": [
    "ml=[1,2,1,2,2,2,1,1,2,3,4,5,5,4,5,6,7,8,8,9,9]\n",
    " \n",
    "ml.sort() #to perform groupby function we need to short the values in consequtive manner\n",
    "x=groupby(ml)\n",
    "for i,j in x:\n",
    "    print(i, \":\", list(j))"
   ]
  },
  {
   "cell_type": "code",
   "execution_count": 24,
   "id": "bf7bde32",
   "metadata": {},
   "outputs": [
    {
     "name": "stdout",
     "output_type": "stream",
     "text": [
      "a : [('a', 1), ('a', 2), ('a', 3)]\n",
      "b : [('b', 4), ('b', 5)]\n"
     ]
    }
   ],
   "source": [
    "ml=[('a',1),('a',2),('a',3),('b',4),('b',5)]\n",
    "for i,j in groupby(ml, key = lambda x:x[0]):\n",
    "    print(i,':', list(j))"
   ]
  },
  {
   "cell_type": "code",
   "execution_count": 26,
   "id": "736e4757",
   "metadata": {},
   "outputs": [
    {
     "name": "stdout",
     "output_type": "stream",
     "text": [
      "a : [('a', 1), ('a', 2), ('a', 4)]\n",
      "b : [('b', 3), ('b', 5)]\n"
     ]
    }
   ],
   "source": [
    "ml=[('a',1),('a',2),('b',3),('a',4),('b',5)]\n",
    "ml_sort=sorted(ml, key= lambda x:x[0])\n",
    "for i,j in groupby(ml_sort, key=lambda x:x[0]):\n",
    "    print(i,':', list(j))"
   ]
  },
  {
   "cell_type": "code",
   "execution_count": 30,
   "id": "75883478",
   "metadata": {},
   "outputs": [
    {
     "name": "stdout",
     "output_type": "stream",
     "text": [
      "Catagory A : [{'marks': 95, 'grade': 'A'}, {'marks': 96, 'grade': 'A'}, {'marks': 99, 'grade': 'A'}]\n",
      "Catagory B : [{'marks': 75, 'grade': 'B'}, {'marks': 74, 'grade': 'B'}, {'marks': 78, 'grade': 'B'}]\n",
      "Catagory C : [{'marks': 65, 'grade': 'C'}, {'marks': 55, 'grade': 'C'}]\n"
     ]
    }
   ],
   "source": [
    "students=[\n",
    "     {'marks':95,'grade':'A'},\n",
    "     {'marks':75,'grade':'B'},\n",
    "     {'marks':74,'grade':'B'},\n",
    "     {'marks':65,'grade':'C'},\n",
    "     {'marks':96,'grade':'A'},\n",
    "     {'marks':55,'grade':'C'},\n",
    "     {'marks':99,'grade':'A'},\n",
    "     {'marks':78,'grade':'B'},\n",
    "]\n",
    "\n",
    "students_sort=sorted(students, key=lambda x:x['grade'])\n",
    "\n",
    "for i,j in groupby(students_sort, key = lambda x:x['grade']):\n",
    "    print('Catagory' ,i,':', list(j))"
   ]
  },
  {
   "cell_type": "markdown",
   "id": "53e1777c",
   "metadata": {},
   "source": [
    "# Write a Python program to extend a list without append."
   ]
  },
  {
   "cell_type": "code",
   "execution_count": 65,
   "id": "36f4265a",
   "metadata": {},
   "outputs": [
    {
     "name": "stdout",
     "output_type": "stream",
     "text": [
      "[103, 320, 430, 403, 503, 603]\n"
     ]
    }
   ],
   "source": [
    "x = [103, 320, 430]\n",
    "y = [403, 503, 603]\n",
    "y[:0]=x\n",
    "print(y)"
   ]
  },
  {
   "cell_type": "markdown",
   "id": "d456d5ab",
   "metadata": {},
   "source": [
    "# Write a Python program to find the list in a list of lists whose sum of elements is the highest"
   ]
  },
  {
   "cell_type": "code",
   "execution_count": 77,
   "id": "875dbedf",
   "metadata": {},
   "outputs": [
    {
     "name": "stdout",
     "output_type": "stream",
     "text": [
      "[12, 11, 10]\n",
      "33\n"
     ]
    }
   ],
   "source": [
    "num = [[1,2,3], [4,5,6], [7,8,9], [12,11,10]]\n",
    "max_list=max(num, key= lambda x:sum(x))\n",
    "print(max_list)\n",
    "print(sum(max_list))\n"
   ]
  },
  {
   "cell_type": "markdown",
   "id": "9c708ecd",
   "metadata": {},
   "source": [
    "# Write a Python program to access dictionary key’s element by index.\n"
   ]
  },
  {
   "cell_type": "code",
   "execution_count": 23,
   "id": "cf2eeaf8",
   "metadata": {},
   "outputs": [
    {
     "name": "stdout",
     "output_type": "stream",
     "text": [
      "['stats', 'math', 'algorithm']\n",
      "stats\n"
     ]
    }
   ],
   "source": [
    "num = {'stats': 80, 'math': 90, 'algorithm': 86}\n",
    "print(list(num))\n",
    "print(list(num)[0])"
   ]
  },
  {
   "cell_type": "code",
   "execution_count": null,
   "id": "ab06fcff",
   "metadata": {},
   "outputs": [],
   "source": []
  },
  {
   "cell_type": "markdown",
   "id": "7d62d9fd",
   "metadata": {},
   "source": [
    "# Write a Python program to iterate over two lists simultaneously."
   ]
  },
  {
   "cell_type": "code",
   "execution_count": 24,
   "id": "29d7013b",
   "metadata": {},
   "outputs": [],
   "source": [
    "?zip"
   ]
  },
  {
   "cell_type": "code",
   "execution_count": 25,
   "id": "f3f72d31",
   "metadata": {},
   "outputs": [
    {
     "name": "stdout",
     "output_type": "stream",
     "text": [
      "<zip object at 0x000002EB0001D440>\n",
      "<class 'zip'>\n",
      "[(1, 'a'), (2, 'b'), (3, 'c')]\n"
     ]
    }
   ],
   "source": [
    "numbers = [1, 2, 3]\n",
    "letters = ['a', 'b', 'c']\n",
    "zipped = zip(numbers, letters)\n",
    "print(zipped)\n",
    "print(type(zipped))\n",
    "print(list(zipped))"
   ]
  },
  {
   "cell_type": "code",
   "execution_count": 37,
   "id": "ba28d478",
   "metadata": {},
   "outputs": [
    {
     "name": "stdout",
     "output_type": "stream",
     "text": [
      "[(1, 'b'), (2, 'c'), (3, 'a')]\n"
     ]
    }
   ],
   "source": [
    "numbers = {1, 2, 3}\n",
    "letters = {'a', 'b', 'c'}\n",
    "zipped = zip(numbers, letters)\n",
    "print(list(zipped))"
   ]
  },
  {
   "cell_type": "code",
   "execution_count": 39,
   "id": "15fbe498",
   "metadata": {},
   "outputs": [
    {
     "name": "stdout",
     "output_type": "stream",
     "text": [
      "10 : red\n",
      "2 : white\n",
      "3 : black\n"
     ]
    }
   ],
   "source": [
    "num = [10, 2, 3]\n",
    "color = ['red', 'white', 'black']\n",
    "for (a,b) in zip(num, color):\n",
    " print(a,':', b)"
   ]
  },
  {
   "cell_type": "code",
   "execution_count": 38,
   "id": "41623ffb",
   "metadata": {},
   "outputs": [
    {
     "name": "stdout",
     "output_type": "stream",
     "text": [
      "2 : red\n",
      "10 : while\n",
      "3 : black\n"
     ]
    }
   ],
   "source": [
    "num = {10, 2, 3}\n",
    "color = {'red', 'white', 'black'}\n",
    "for (a,b) in zip(num, color):\n",
    " print(a,':', b)"
   ]
  },
  {
   "cell_type": "markdown",
   "id": "d94073c6",
   "metadata": {},
   "source": [
    "# write a program to insert a string at the begining of every elements in a list"
   ]
  },
  {
   "cell_type": "code",
   "execution_count": 78,
   "id": "bb93102b",
   "metadata": {},
   "outputs": [
    {
     "name": "stdout",
     "output_type": "stream",
     "text": [
      "['customer100', 'customer123', 'customer345', 'customer567', 'customer789', 'customer890', 'customer98', 'customer876', 'customer543', 'customer678']\n"
     ]
    }
   ],
   "source": [
    "a = [100,123,345,567,789,890,98,876,543,678]\n",
    "#enter customer before each element\n",
    "print(['customer{}'.format(i) for i in a])\n",
    "\n"
   ]
  },
  {
   "cell_type": "code",
   "execution_count": 79,
   "id": "30eb579f",
   "metadata": {},
   "outputs": [
    {
     "name": "stdout",
     "output_type": "stream",
     "text": [
      "['Customer100', 'Customer123', 'Customer345', 'Customer567', 'Customer789', 'Customer890', 'Customer98', 'Customer876', 'Customer543', 'Customer678']\n",
      "[100, 123, 345, 567, 789, 890, 98, 876, 543, 678]\n"
     ]
    }
   ],
   "source": [
    "a = [100,123,345,567,789,890,98,876,543,678]\n",
    "new_list=[]\n",
    "\n",
    "for i in a:\n",
    "    new_list.append('Customer{}'.format(i))\n",
    "print(new_list)\n",
    "print(a)"
   ]
  },
  {
   "cell_type": "markdown",
   "id": "05965a87",
   "metadata": {},
   "source": [
    "# write a program to take two lists and print if they have at least one common member"
   ]
  },
  {
   "cell_type": "code",
   "execution_count": 83,
   "id": "8a030ecb",
   "metadata": {},
   "outputs": [
    {
     "name": "stdout",
     "output_type": "stream",
     "text": [
      "The result is: False\n",
      "the result is: True\n"
     ]
    }
   ],
   "source": [
    "#solution\n",
    "def common_data(list1, list2):\n",
    "    result = False\n",
    "    for x in list1:\n",
    "        for y in list2:\n",
    "            if x == y:\n",
    "                result = True\n",
    "    return result\n",
    "print(\"The result is:\",common_data([121,222,332,432,12], [125,236,457,678,779]))\n",
    "print(\"the result is:\",common_data([1,2,3,4,5], [5,7,8,9]))"
   ]
  },
  {
   "cell_type": "markdown",
   "id": "2cc593a3",
   "metadata": {},
   "source": [
    "# compute all permutations in a list"
   ]
  },
  {
   "cell_type": "code",
   "execution_count": 86,
   "id": "4dca3fb3",
   "metadata": {},
   "outputs": [
    {
     "name": "stdout",
     "output_type": "stream",
     "text": [
      "[(1, 2, 3), (1, 3, 2), (2, 1, 3), (2, 3, 1), (3, 1, 2), (3, 2, 1)]\n"
     ]
    }
   ],
   "source": [
    "import itertools\n",
    "print(list(itertools.permutations([1,2,3])))"
   ]
  },
  {
   "cell_type": "markdown",
   "id": "620facca",
   "metadata": {},
   "source": [
    "# Create a list of length 3 and Create a list of length 4, For each element in the first list\n",
    "# Display the corresponding index element of the second list\n"
   ]
  },
  {
   "cell_type": "code",
   "execution_count": 88,
   "id": "ec098353",
   "metadata": {},
   "outputs": [
    {
     "name": "stdout",
     "output_type": "stream",
     "text": [
      "data science has the following options: Red hat\n",
      "Blue mix has the following options: Blue mixx\n",
      "algorithms has the following options: Green gold\n"
     ]
    }
   ],
   "source": [
    "# Create a list of length 3:\n",
    "list1 = ['data science', 'Blue mix', 'algorithms']\n",
    "# Create a list of length 4:\n",
    "list2 = ['Red hat', 'Blue mixx','Green gold','Orange Ai']\n",
    "\n",
    "\n",
    "for i, j in zip(list1, list2):\n",
    " print(i, 'has the following options:', j)"
   ]
  },
  {
   "cell_type": "markdown",
   "id": "84a5aca6",
   "metadata": {},
   "source": [
    "# display an example of Nested For Loops Using List Comprehension"
   ]
  },
  {
   "cell_type": "code",
   "execution_count": 89,
   "id": "88de6b8b",
   "metadata": {},
   "outputs": [],
   "source": [
    "list1 = ['data science', 'Blue mix', 'algorithms']\n",
    "list2 = ['Red hat', 'Blue mixx','Green gold','Orange Ai']"
   ]
  },
  {
   "cell_type": "code",
   "execution_count": 90,
   "id": "bc15dfad",
   "metadata": {},
   "outputs": [
    {
     "data": {
      "text/plain": [
       "[('data science', 'Red hat'),\n",
       " ('data science', 'Blue mixx'),\n",
       " ('data science', 'Green gold'),\n",
       " ('data science', 'Orange Ai'),\n",
       " ('Blue mix', 'Red hat'),\n",
       " ('Blue mix', 'Blue mixx'),\n",
       " ('Blue mix', 'Green gold'),\n",
       " ('Blue mix', 'Orange Ai'),\n",
       " ('algorithms', 'Red hat'),\n",
       " ('algorithms', 'Blue mixx'),\n",
       " ('algorithms', 'Green gold'),\n",
       " ('algorithms', 'Orange Ai')]"
      ]
     },
     "execution_count": 90,
     "metadata": {},
     "output_type": "execute_result"
    }
   ],
   "source": [
    "[(i, j) for i in list1 for j in list2 ]\n"
   ]
  },
  {
   "cell_type": "code",
   "execution_count": null,
   "id": "d821bb0c",
   "metadata": {},
   "outputs": [],
   "source": []
  }
 ],
 "metadata": {
  "kernelspec": {
   "display_name": "Python 3 (ipykernel)",
   "language": "python",
   "name": "python3"
  },
  "language_info": {
   "codemirror_mode": {
    "name": "ipython",
    "version": 3
   },
   "file_extension": ".py",
   "mimetype": "text/x-python",
   "name": "python",
   "nbconvert_exporter": "python",
   "pygments_lexer": "ipython3",
   "version": "3.10.10"
  }
 },
 "nbformat": 4,
 "nbformat_minor": 5
}
